{
 "cells": [
  {
   "cell_type": "code",
   "execution_count": null,
   "metadata": {},
   "outputs": [
    {
     "ename": "",
     "evalue": "",
     "output_type": "error",
     "traceback": [
      "\u001b[1;31mFailed to start Jupyter in the environment 'Python 3.11.3 64-bit (~/.brew/bin/python3)'. \n",
      "ImportError: cannot import name 'notebookapp' from 'notebook' (/Users/annasarybaeva/.brew/lib/python3.11/site-packages/notebook/__init__.py) \n",
      "View Jupyter <a href='command:jupyter.viewOutput'>log</a> for further details."
     ]
    }
   ],
   "source": [
    "import pandas as pd \n",
    "import matplotlib.pyplot as plt\n",
    "import eel\n",
    "import plotly.express as px\n",
    "from io import StringIO"
   ]
  },
  {
   "cell_type": "code",
   "execution_count": null,
   "metadata": {},
   "outputs": [],
   "source": [
    "import xgboost as xgb\n",
    "import joblib\n",
    "\n",
    "model = joblib.load('xgb.joblib')"
   ]
  },
  {
   "cell_type": "code",
   "execution_count": null,
   "metadata": {},
   "outputs": [],
   "source": [
    "!pip list"
   ]
  },
  {
   "cell_type": "code",
   "execution_count": null,
   "metadata": {},
   "outputs": [],
   "source": [
    "model"
   ]
  },
  {
   "cell_type": "code",
   "execution_count": null,
   "metadata": {},
   "outputs": [],
   "source": [
    "@eel.expose\n",
    "def give_res(csv_file: str) -> str:\n",
    "    df = pd.read_csv(StringIO(csv_file), delimiter=',')\n",
    "    df['взаимосвязь с водой бин'] = df['взаимосвязь с водой'].apply(lambda x: 1 if x == 'да' else 0)\n",
    "    for elem in ['болото', 'бугор пучения', 'лес', 'озеро', 'торфяник']:\n",
    "        df[elem] = df['ландшафт'].apply(lambda x: 1 if x == elem else 0)\n",
    "    df['взаимосвязь с водой'] = df['взаимосвязь с водой бин'] \n",
    "    coord_df = df[['X', 'Y']]\n",
    "    df = df.drop(columns=['X','Y','ландшафт', 'взаимосвязь с водой бин'])\n",
    "    df['температура воздуха'] = [x if isinstance(x, float) else 0 for x in df['температура воздуха']]\n",
    "    df['торф'] = [x if isinstance(x, float) or  isinstance(x, int) else 0 for x in df['торф']]\n",
    "    y_pred = model.predict(df)\n",
    "    coord_df['Z'] = y_pred\n",
    "    color_map = {0: 'red', 1: 'yellow', 2: 'green'}\n",
    "    types_map = {0: 'нет', 1: 'слив', 2: 'есть'}\n",
    "\n",
    "    coord_df['color'] = coord_df['Z'].map(color_map)\n",
    "    coord_df['name'] = coord_df['Z'].map(types_map)\n",
    "    coord_df['size']=10\n",
    "\n",
    "    fig = px.scatter_mapbox(coord_df, lat='X', lon='Y', hover_name='name', zoom=10, height=600,color='color', size='size')\n",
    "    fig.update_layout(mapbox_style='open-street-map', showlegend=False)\n",
    "\n",
    "    fig.write_html('web/map.html')\n",
    "    return 'map.html'"
   ]
  },
  {
   "cell_type": "code",
   "execution_count": null,
   "metadata": {},
   "outputs": [],
   "source": [
    "eel.init('web')\n",
    "eel.start('main.html', size=(1050,1050))"
   ]
  },
  {
   "cell_type": "code",
   "execution_count": null,
   "metadata": {},
   "outputs": [],
   "source": [
    "# Copyright 2023 danilsherki\n",
    "# \n",
    "# Licensed under the Apache License, Version 2.0 (the \"License\");\n",
    "# you may not use this file except in compliance with the License.\n",
    "# You may obtain a copy of the License at\n",
    "# \n",
    "#     http://www.apache.org/licenses/LICENSE-2.0\n",
    "# \n",
    "# Unless required by applicable law or agreed to in writing, software\n",
    "# distributed under the License is distributed on an \"AS IS\" BASIS,\n",
    "# WITHOUT WARRANTIES OR CONDITIONS OF ANY KIND, either express or implied.\n",
    "# See the License for the specific language governing permissions and\n",
    "# limitations under the License.\n",
    "\n"
   ]
  }
 ],
 "metadata": {
  "kernelspec": {
   "display_name": "Python 3.10.7 64-bit",
   "language": "python",
   "name": "python3"
  },
  "language_info": {
   "codemirror_mode": {
    "name": "ipython",
    "version": 3
   },
   "file_extension": ".py",
   "mimetype": "text/x-python",
   "name": "python",
   "nbconvert_exporter": "python",
   "pygments_lexer": "ipython3",
   "version": "3.11.3"
  },
  "orig_nbformat": 4,
  "vscode": {
   "interpreter": {
    "hash": "aee8b7b246df8f9039afb4144a1f6fd8d2ca17a180786b69acc140d282b71a49"
   }
  }
 },
 "nbformat": 4,
 "nbformat_minor": 2
}
